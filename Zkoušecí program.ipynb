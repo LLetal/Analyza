{
 "cells": [
  {
   "cell_type": "code",
   "execution_count": 1,
   "id": "405a59b0-1aca-4a33-ae27-93ee2d6e0fd4",
   "metadata": {
    "tags": []
   },
   "outputs": [],
   "source": [
    "import numpy as np"
   ]
  },
  {
   "cell_type": "code",
   "execution_count": 2,
   "id": "88fe32ce-8a37-4c6f-b806-735bba1dd5be",
   "metadata": {
    "tags": []
   },
   "outputs": [],
   "source": [
    "fname = \"import_pozadavku.txt\"\n",
    "file = open(fname,\"r\", encoding='utf-8')"
   ]
  },
  {
   "cell_type": "code",
   "execution_count": 3,
   "id": "2416f1a1-7d8b-449c-9b75-d811c5bc8aca",
   "metadata": {
    "tags": []
   },
   "outputs": [],
   "source": [
    "Read_keys = [\"Key_concepts\\n\", \"Definitions\\n\", \"Easy_theorems\\n\", \"Hard_theorems\\n\", \"Theorems_without_proof\\n\"]\n",
    "current_key = \"\"\n",
    "temp = []\n",
    "whole_dictionary = {}\n",
    "for line in file:\n",
    "    if line in Read_keys:\n",
    "        whole_dictionary[current_key[0:-1]] = temp\n",
    "        temp = []\n",
    "        current_key = line\n",
    "    else:\n",
    "        temp.append(line[2:-1])\n",
    "whole_dictionary[current_key[0:-1]] = temp #kvůli větám bez důkazu\n",
    "whole_dictionary.pop(\"\")\n",
    "file.close()"
   ]
  },
  {
   "cell_type": "code",
   "execution_count": 4,
   "id": "0e21419e-4651-4f96-872f-9d6b0e0e0cbd",
   "metadata": {
    "tags": []
   },
   "outputs": [],
   "source": [
    "def zkouseni(pocet_klicovych = 1,pocet_definic=2,pocet_lehkych=1,pocet_tezky=1):   \n",
    "    klicove = np.random.randint(0,len(whole_dictionary[\"Key_concepts\"]), pocet_klicovych)\n",
    "    definice = np.random.randint(0,len(whole_dictionary[\"Definitions\"]), pocet_definic)\n",
    "    lehke_vety = np.random.randint(0,len(whole_dictionary[\"Easy_theorems\"]), pocet_lehkych)\n",
    "    tezke = np.random.randint(0,len(whole_dictionary[\"Hard_theorems\"]), pocet_tezky)\n",
    "    \n",
    "    if pocet_klicovych>1:\n",
    "        print(\"Napiš následující klíčové pojmy/pojem:\", end = \"\\n\"*2)\n",
    "    else:\n",
    "        print(\"Napiš následující klíčový pojem:\", end = \"\\n\"*2)\n",
    "\n",
    "    for num in klicove:\n",
    "        \n",
    "        print(whole_dictionary[\"Key_concepts\"][num], end = \"\\n\"*2)\n",
    "        \n",
    "    if pocet_definic > 1:\n",
    "        print(\"Napiš následující definice:\", end = \"\\n\"*2)\n",
    "    else:\n",
    "        print(\"Napiš následující definici:\")\n",
    "   \n",
    "    for num in klicove:\n",
    "        \n",
    "        print(whole_dictionary[\"Definitions\"][num], end = \"\\n\"*2)\n",
    "    \n",
    "    if pocet_lehkych >1: \n",
    "        print(\"Napiš a dokaž následující lehké věty:\", end = \"\\n\"*2)\n",
    "    else:\n",
    "        print(\"Napiš a dokaž následující lehkou větu:\", end = \"\\n\"*2)\n",
    "    \n",
    "    for num in klicove:\n",
    "        \n",
    "        print(whole_dictionary[\"Easy_theorems\"][num], end = \"\\n\"*2)\n",
    "    if pocet_tezky >1:\n",
    "        print(\"Napiš a dokaž následující těžké věty:\", end = \"\\n\"*2)\n",
    "    else:\n",
    "        \n",
    "        print(\"Napiš a dokaž následující těžkou větu:\", end = \"\\n\"*2)\n",
    "    \n",
    "    for num in klicove:\n",
    "        print(whole_dictionary[\"Hard_theorems\"][num], end = \"\\n\"*2)\n",
    "    "
   ]
  },
  {
   "cell_type": "code",
   "execution_count": 12,
   "id": "3b39b59d-1e37-45f6-a8ef-6022cd804cf5",
   "metadata": {
    "tags": []
   },
   "outputs": [
    {
     "name": "stdout",
     "output_type": "stream",
     "text": [
      "Napiš následující klíčový pojem:\n",
      "\n",
      "posloupnost: limita, konvergence\n",
      "\n",
      "Napiš následující definice:\n",
      "\n",
      "malé ,,ó``, velké ,,Ó``, silná a slabá ekvivalence\n",
      "\n",
      "Napiš a dokaž následující lehkou větu:\n",
      "\n",
      "o dvou policajtech \n",
      "\n",
      "Napiš a dokaž následující těžkou větu:\n",
      "\n",
      "Lagrangeův tvar Taylorova zbytku \n",
      "\n"
     ]
    }
   ],
   "source": [
    "zkouseni()"
   ]
  },
  {
   "cell_type": "code",
   "execution_count": 6,
   "id": "2d2c4d50-4c49-4bc0-9b27-062b64d42f5e",
   "metadata": {},
   "outputs": [
    {
     "name": "stdout",
     "output_type": "stream",
     "text": [
      "17\n"
     ]
    }
   ],
   "source": []
  },
  {
   "cell_type": "code",
   "execution_count": null,
   "id": "77b9cb4b-11fd-44f2-9e21-bd330a7b013a",
   "metadata": {},
   "outputs": [],
   "source": []
  }
 ],
 "metadata": {
  "kernelspec": {
   "display_name": "Python 3 (ipykernel)",
   "language": "python",
   "name": "python3"
  },
  "language_info": {
   "codemirror_mode": {
    "name": "ipython",
    "version": 3
   },
   "file_extension": ".py",
   "mimetype": "text/x-python",
   "name": "python",
   "nbconvert_exporter": "python",
   "pygments_lexer": "ipython3",
   "version": "3.11.5"
  }
 },
 "nbformat": 4,
 "nbformat_minor": 5
}
