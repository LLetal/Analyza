{
 "cells": [
  {
   "cell_type": "markdown",
   "id": "8dd5b460-e3d7-4007-9411-25dc6d9ba563",
   "metadata": {},
   "source": [
    "# Kritérium existence Riemannova integrálu (7.3.1)\n",
    "Mějme $f: \\mathbb{R} \\to \\mathbb{R}$ je omezená na $[a,b]$. Pak:\n",
    "\n",
    "$$\n",
    "\\exists (R) \\int_{a}^{b} f dx <=> \\forall \\epsilon > 0 \\exists D: S(f,D) - s(f,D) < \\epsilon \n",
    "$$\n"
   ]
  },
  {
   "cell_type": "code",
   "execution_count": null,
   "id": "475c3f63-7455-4418-815e-6c5d7b0edd12",
   "metadata": {},
   "outputs": [],
   "source": []
  }
 ],
 "metadata": {
  "kernelspec": {
   "display_name": "Python 3 (ipykernel)",
   "language": "python",
   "name": "python3"
  },
  "language_info": {
   "codemirror_mode": {
    "name": "ipython",
    "version": 3
   },
   "file_extension": ".py",
   "mimetype": "text/x-python",
   "name": "python",
   "nbconvert_exporter": "python",
   "pygments_lexer": "ipython3",
   "version": "3.11.4"
  }
 },
 "nbformat": 4,
 "nbformat_minor": 5
}
