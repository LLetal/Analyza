{
 "cells": [
  {
   "cell_type": "markdown",
   "id": "265ce14c-1bb0-443d-a1b0-19033ef8d7ce",
   "metadata": {},
   "source": [
    "# Těžké věty"
   ]
  },
  {
   "cell_type": "markdown",
   "id": "11f717ac-baa7-46df-9df5-bf81575b5ab3",
   "metadata": {},
   "source": [
    "# Aritmetika limit - rozšířená verze (5.1.21)\n",
    "Nechť $f,g: \\mathbb{R} \\to \\mathbb{R},x_0 \\in \\mathbb{R}^{*},D_f = D_g, \\lim_{x \\to x_0}f(x) = A \\in \\mathbb{R}^{*}, \\, a \\, \\lim_{x \\to x_0}g(x) = B \\in \\mathbb{R}^{*}$. Pak:\n",
    "(i) $\\lim_{x \\to x_0}(f(x)+g(x)) = A + B$, má-li pravá strana smysl\n",
    "\\\n",
    "(ii) $\\lim_{x \\to x_0}(f(x)*g(x)) = A*B$, má-li pravá strana smysl\n",
    "\\\n",
    "(iii) $\\lim_{x \\to x_0}(\\frac{f(x)}{g(x)}) = \\frac{A}{B}$, má-li pravá strana smysl\n",
    "\n",
    "*Důkaz:*\n",
    "Jestliže $A,B \\in \\mathbb{R}$, tak můžeme prostě použit postup z důkazu aritmetiky limit z kapitoly o vlastní limitách. Jinak používáme zesílenou aritmetiku nevlastních limit. \n",
    "# Zesílená aritmetika nevlastních limit (5.1.23)\n",
    "Nechť $f,g: \\mathbb{R} \\to \\mathbb{R}, x_0 \\in \\mathbb{R}^{*}, D_f = D_g, \\Delta > 0, \\alpha \\in \\mathbb{R} \\, a \\, \\beta >0$. Pak:\n",
    "\\\n",
    "(i) Je-li $\\lim_{x \\to x_0} f(x) = + \\infty$ a $g \\geq \\alpha$ na $P_\\Delta (x_0) \\cap D_g$, pak $\\lim_{x \\to x_0}(f(x)+g(x)) = + \\infty$.\n",
    "\\\n",
    "(ii) Je-li $\\lim_{x \\to x_0}f(x) = -\\infty$ a $g\\leq \\alpha$ na $P_\\Delta \\cap D_g$, pak $\\lim_{x \\to x_0}(f(x)+g(x)) = - \\infty$\n",
    "\\\n",
    "(iii) Je-li $\\lim_{x \\to x_0}f(x) = -\\infty$ a $g\\leq \\alpha$ na $P_\\Delta \\cap D_g$, pak $\\lim_{x \\to x_0}(f(x)+g(x)) = - \\infty$\n",
    "\\\n",
    "(iv) Je-li $\\lim_{x \\to x_0}f(x) = -\\infty$ a $g\\leq \\alpha$ na $P_\\Delta \\cap D_g$, pak $\\lim_{x \\to x_0}(f(x)+g(x)) = - \\infty$\n",
    "*Důkaz:*\n",
    "\\\n",
    "Nejprve dokažme (i) pomocí řetězu ekvivalencí. Z předpokladů plyne:\n",
    "$$\n",
    "\\lim_{x \\to x_0}f(x) = +\\infty\n",
    "<=> \\forall K > 0 \\exists \\delta >0 \\forall x \\in P_{\\delta}(x_0) \\cap D_f \\, f(x) + \\alpha > K => \\forall K > 0 \\exists \\delta >0 \\forall P_\\delta (x_0) \\cap P_\\Delta (x_0) \\cap D_f \\cap D_g \\, f(x) + g(x) > K <=> \\lim_{x \\to x_0} f(x)+g(x) = +\\infty\n",
    "$$\n",
    "Část (ii) dokážeme podobným postupem. Třetí však již trochu jinak. Pro limitu, kdy $\\lim_{x\\to x_0}f(x) = + \\infty$. Máme:\n",
    "$$\n",
    "\\lim_{x \\to x_0} f(x) = + \\infty\n",
    "$$\n",
    "$$\n",
    "<=> \\forall K >0 \\exists \\delta > 0 \\forall x \\in P_\\delta (x_0) \\cap D_f \\, f(x) > K\n",
    "$$\n",
    "$$\n",
    "<=> \\forall K >0 \\exists \\delta > 0 \\forall x \\in P_\\delta (x_0) \\cap D_f \\, \\beta f(x) > K\n",
    "$$\n",
    "$$\n",
    "=> \\forall K >0 \\exists \\delta > 0 \\forall x \\in P_\\Delta (x_0) \\cap D_f \\cap D_g \\, f(x)g(x)> K\n",
    "$$\n",
    "\n",
    "$$\n",
    "\\lim_{x \\to x_0} f(x)g(x) = + \\infty\n",
    "$$\n",
    "Zbylá tvrzení dokazujeme podobně. Plyne to celkem z definic, takže to není zas tak těžké. $\\square$"
   ]
  },
  {
   "cell_type": "markdown",
   "id": "c0785003-a6f2-463c-bd67-e2367ff2d04d",
   "metadata": {},
   "source": [
    "# Darbouxova věta (6.2.1)\n",
    "Nechť $f: \\mathbb{R} \\to \\mathbb{R}$ je spojitá na $[a,b] \\subset \\mathbb{R}$. Pak na $[a,b]$ nabývá všech hodnot mezi $f(a)$ a $f(b)$\n",
    "\n",
    "\\\n",
    "*Důkaz:*\n",
    "Bez újmy na obecnosti můžeme předpokládat, že $f(a) < f(b)$ (pokud $f(a)=f(b)$, netřeba nic dokazovat). Pokud $f(a)>f(b)$, pak jen přehodíme znaménko funkce. Zvolme $A \\in (f(a), f(b))$. Označme:\n",
    "$$\n",
    "M = {x \\in [a,b]: f(x) < A} \\, a \\, c= \\sup(M) \n",
    "$$\n",
    "Očividně není možné, aby $M = \\emptyset$ (Množina bude obsahovat vždy alespoň okrajové body.). Z toho důvodu bude $c \\in [a,b]$. Ze spojitosti funkce $f$ v bode $b$ plyne, že $c\\neq b$. Podobně platí $c \\neq a$, a tedy $c \\in (a,b)$. Dále nemůže platit, že by bylo $f(c) < A$(v rozporu s definicí) - existovalo by nějaké okolí bodu $c$, které by leželo v M a $c$ by nemohlo být supremem. Když by naopak platilo, že $f(c) >A $, tak by zase ze spojitosti okolí bodu $c$ bylo celé mimo množinu a znovu by nemohlo být supremem. Nutně pro všechny podmnožiny vybrané stanoveným způsobem musí platit, že $f(c) = A$ a nabývá tedy právě hodnoty $A$(postupně všechny body funkce na daném intervalu) $\\square$"
   ]
  },
  {
   "cell_type": "markdown",
   "id": "3ea59301-6d4a-4cc0-a2fa-e496c99c8fb3",
   "metadata": {},
   "source": [
    "# Derivace složené funkce\n",
    "Nechť $f,g: \\mathbb{R} \\to \\mathbb{R}, x_0 \\in \\mathbb{R}, f'(x_0) \\in \\mathbb{R}, g'(f(x_0)) \\in \\mathbb{R}$. Pak:\n",
    "$$\n",
    "(g o f)'(x_0) = g'(f(x_0))f'(x_0)\n",
    "$$\n",
    "\\\n",
    "*Důkaz:*\n",
    "Uvažme dva případy. Nejprve nechť $f'(x_0) \\neq 0$. Nutně pak existuje prstencové okolí bodu $x_0$, na němž máme $\\frac{f(x)-f(x_0)}{x-x_0}$ odražené od nuly, proto také $f(x) \\neq f(x_0)$. Zároveň máme $\\lim_{x \\to x_0} f(x) = f(x_0)$ (spojitost). Dále má tedy smysl provést odvození pomocí aritmetiky limit. Začněme tedy rozepsáním:\n",
    "$$\n",
    "\\lim_{x \\to x_0} \\frac{g(f(x))-g(f(x_0))}{x-x_0} = \\lim_{x \\to x_0} \\frac{g(f(x))-g(f(x_0))}{x-x_0} \\frac{f(x)-f(x_0)}{x-x_0} = \\lim_{x \\to x_0} \\frac{f(x)-f(x_0)}{x-x_0} \\lim_{x \\to x_0} \\frac{g(f(x))-g(f(x_0))}{x-x_0} = f'(x_0) g'(f(x_0))\n",
    "$$\n",
    "Když však náhodou nastane, že $f'(x_0)=0$, tak musí platit, že $\\lim_{x \\to x_0} \\frac{g(f(x))-g(f(x_0))}{x-x_0} = 0$ a tedy:\n",
    "$$\n",
    "x \\in P_{\\delta_1}(x_0) => |\\frac{f(x)-f(x_0)}{x-x_0}| < \\epsilon\n",
    "$$\n",
    "Ze spojitosti $f$ a konečnosti (jinými slovy omezenosti)$g'(f(x_0))$ a Větě o vztahu limity a omezenosti (3.1.21 - jednoduché věty). Tedy existují taková $\\delta_2 >0$ a $K>0$ taková, že:\n",
    "$$\n",
    "x \\in P_{\\delta_2} \\land f(x) \\neq f(x_0) => |\\frac{g(f(x))-g(f(x_0))}{f(x)-f(x_0)}| \\leq K\n",
    "$$\n",
    "Nyní uděláme klasický typický trik a položíme $\\delta = min(\\delta_1, \\delta_2)$, Budou na prstencovém okolí tedy platit, obě podmínky a:\n",
    "$$\n",
    "|\\frac{g(f(x))- g(f(x_0))}{x-x_0}|=|\\frac{f(x)-f(x_0)}{x-x_0}| |\\frac{g(f(x))-g(f(x_0))}{f(x)-f(x_0)}| < K \\epsilon\n",
    "$$\n",
    "Zase ekvivalentní definice limity lmao. Celkově tedy platí, že:\n",
    "$$\n",
    "x \\in P_{\\delta} (x_0) => |\\frac{g(f(x))-g(f(x_0))}{x-x_0}| < K \\epsilon\n",
    "$$\n",
    "JInými slovy $(g o f)' = 0$ DOKÁZÁNO. $\\square$"
   ]
  },
  {
   "cell_type": "markdown",
   "id": "f2dd19bb-371b-4026-94e8-78425463056c",
   "metadata": {},
   "source": [
    "# Derivace inverzní funkce (3.3.16)\n",
    "Nechť $x_0 \\in \\mathbb{R} \\, a \\, f:\\mathbb{R} \\to \\mathbb{R}$ splňuje následující:\n",
    "- (i) existují  $\\alpha, \\beta_1, \\beta_2 > 0$ taková, že $f$ je prosté na $(x_0-\\alpha, x_0 + \\alpha)$ a zobrazuje tento interval na $(f(x_0)-\\beta_1, f(x_0)+\\beta_2)$\n",
    "- (ii) existuje vlastní nenulová derivace v bodě $x_0$\n",
    "- (iii) $f^{-1}$ je spojitá v bodě $y_0 = f(x_0)$.\n",
    "Pak existuje derivace $f^{-1}$ v bodě $y_0$ a platí:\n",
    "$$\n",
    "(f^{-1})'(y_0) = \\frac{1}{f'(x_0)}\n",
    "$$\n",
    "Čili:\n",
    "$$\n",
    "(f^{-1})'(f(x_0)) = \\frac{1}{f'(x_0)}\n",
    "$$\n",
    "Alternativně:\n",
    "$$\n",
    "(f^{-1})'(y_0) = \\frac{1}{f'(f^{-1}(y_0))}\n",
    "$$\n",
    "\n",
    "\n",
    "*Důkaz:* Protože $f'(x_0) \\neq 0$, máme na jistém prstencovém okolí $P_{\\delta}(x_0)$ diferenční podíly nenulové, a proto lze definovat pomocnou funkci:\n",
    "\n",
    "h(x) =\n",
    "\\begin{cases}\n",
    "  \\frac{x - x_0}{f(x) - f(x_0)} & \\text{for } x \\in P_\\delta(x_0) \\\\\n",
    "  \\frac{1}{f'(x_0)} & \\text{for } x = x_0\n",
    "\\end{cases}\n",
    "\n",
    "Podle aritmetiky limit a definice derivace je tato funkce spojitá v $x_0$. Nyní již stačí použít definici derivace a, že $f^{-1}$ existuje na jistém okolí bodu $f(x_0)$(využíváme předpokladu ii), a větu o spojitosti složené funkce (3.2.9) a předpokladu (iii) v kombinaci se spojitostí h v $x_0$. \n",
    "$$\n",
    "(f^{-1})'(f(x_0)) = \\lim_{y \\to f(x_0)} \\frac{f^{-1} - f^{-1}f(f(x_0))}{y-f(x_0)} = \\lim_{y \\to f(x_0)}h(f^{-1}(f(x_0))) = h(x_0) = \\frac{f'(x_0)}.\n",
    "$$\n"
   ]
  },
  {
   "cell_type": "markdown",
   "id": "5d586727-fbc9-476d-a3c1-06aff904d2fc",
   "metadata": {},
   "source": [
    "# Nabývání extrémů na intervalu (6.1.7)\n",
    "Nechť $[a,b] \\subset \\mathbb{R}$ a $f: \\mathbb{R} \\to \\mathbb{R}$ je spojitá na $[a,b]$. Pak zde nabývá svého maxima a minima.\n",
    "\n",
    "*Důkaz:*\n",
    "Označme $S = \\sup_{x \\in [a,b]}f(x)$. Z definice suprema existuje posloupnost {$x_n$} $\\subset [a,b]$ taková, že $f(x_n) \\to S$. Dále podle Weierstrassovy věty (5.5.4) existuje{$x_{n_k}$} $\\subset$ {$x_n$} taková, že $x_{n_k} \\to x_0 \\in [a,b]$. Celkově:\n",
    "$$\n",
    "x_{n_k} \\to x_0 \\, a \\, f(x_{n_k}) \\to S\n",
    "$$\n",
    "Ze spojitosti $f$ v bodě $x_0$ dostáváme, že $S = f (x_0) \\in \\mathbb{R}$"
   ]
  },
  {
   "cell_type": "markdown",
   "id": "d9b9c235-e9ee-4548-960b-fbc08f31a70d",
   "metadata": {},
   "source": [
    "# L' Hospitalovo pravidlo"
   ]
  },
  {
   "cell_type": "markdown",
   "id": "62d7d080-8947-4bcd-9bfc-01020b611504",
   "metadata": {},
   "source": [
    "# Inverze spojité, monotónní funkce (6.2.10)\n",
    "Nechť $f: (a,b) \\to \\mathbb{R}$ je ryze monotónní a spojitá na (a,b). Pak existuje spojitá $f^{-1}$ na $f((a,b))$ a má stejný typ monotonie jako $f$.\n",
    "\n",
    "*Důkaz:*\n",
    "Uvažme jen případ rostoucí funkce, protože ke klesající prostě jenom obrátíme znaménko. Podle věty o existenci limity pro monotonní funkci (5.1.12) máme definováno:\n",
    "$$\n",
    "\\alpha = \\lim_{x \\to a^{+}}f(x) = \\inf_{(a,b)}f\n",
    "$$\n",
    "$$\n",
    "\\beta = \\lim_{x \\to b^{-}}f(x) = \\sup_{(a,b)} f\n",
    "$$\n",
    "Díky ryzí monotonii na původním intervalu $(a,b)$ musí notně platit, že $\\alpha < \\beta$. Když $\\alpha, \\beta \\in \\mathbb{R}$ (nezahrnuje nekonečna), tak můžeme spojitě dodefinovat $f(a)=\\alpha, f(b)=\\beta$, čímž neztratíme monotonii (pořád zachováváme nerovnost). Zřejmě potom $f$ zobrazuje $[a,b]$ do $[\\alpha,\\beta]$. Navíc je díky spojitosti v kombinaci s Darbouxem (6.2.1)(je spojitá, a tedy nabývá všech mezibodů) toto zobrazení na. Proto musí notně existovat také inverze, která je spojitá díky Větě o vztahu spojitosti a tvaru obrazu pro monotonní funkci (6.2.9). Pokud bychom vstoupili do prostoru nekonečen musíme provést nějaká další trik, na který se musím \n",
    "### ZEPTAT"
   ]
  },
  {
   "cell_type": "markdown",
   "id": "6334201f-0a0e-447a-80b6-31653d1827ad",
   "metadata": {},
   "source": [
    "# Bolzano Weierstrassova věta\n",
    "Z každé omezené posloupnosti reálných čísel lze vybrat konvergentní podposloupnost.\n",
    "*Důkaz:*\n",
    "Důkaz si zakládá na využití věty o dvou strážnících(5.1.27), protože je zatím ale nemáme, tak musíme tyto represivní složky nějak vytvořit."
   ]
  },
  {
   "cell_type": "markdown",
   "id": "e0f1cfde-3b2f-4d4d-bfa9-8eb02099aa75",
   "metadata": {},
   "source": [
    "# Bolzano - Cauchyho podmínka a konvergence posloupnost"
   ]
  },
  {
   "cell_type": "markdown",
   "id": "116d6e74-e285-43af-8e14-0e67e2720533",
   "metadata": {},
   "source": [
    "# Heineho věta (5.4.1)\n",
    "Nechť funkce $f: \\mathbb{R} \\to \\mathbb{R}, x_0 \\in \\mathbb{R}^{*}, A \\in \\mathbb{R}^{*}$ a pro každé $\\delta >0$ platí, že $P_{\\delta}(x_0) \\cap D_f \\neq \\emptyset$. Potom $\\lim_{x \\to x_0}f(x) = A$ právě tehdy, když $\\lim_{n \\to \\infty}f(x_n)=A$ pro každou posloupnost $(x_n) \\subset D_f -(x_0)$ splňující $x_n \\to x_0$.\n",
    "\n",
    "\n",
    "*Důkaz:*\n",
    "$=>$ Zvolme $\\epsilon > 0$. Potom k němu existuje $\\delta >0$ takové, že:\n",
    "$$\n",
    "x \\in P_{\\delta} (x_0) => f(x) \\in U_{\\epsilon}(A) \n",
    "$$\n",
    "Pokud nyní uvážíme posloupnost $(x_n) \\subset D_f - (x_0)$ splňující $x_n \\to x_0$ od nějakého indexu musí notně platit, že $x_n \\in P_{\\delta}(x_0)$ odkud potom plyne druhá limita. Nyní dokažme opačnou implikaci. Sporem předpokládáme že $\\lim_{x \\to x_0}f(x) \\neq A$. Potom s jistotou existuje $\\epsilon >0$ takové, že pro každé $\\delta > 0$ existuje $x_{\\delta} \\in P_{\\delta}(x_0)$ tak, že $f(x_delta) \\notin U_{\\epsilon}(A)$. Zvolíme-li vhodně posloupnost okolí $P_{\\delta_n}(x_0)$(pro $x_0 \\in \\mathbb{R}$stačí uvážit $P_{\\frac{1}{n}}(x_0)$), pro $x_0 = + \\infty$ bereme $(n, +\\infty)$. Máme posloupnost $x_{\\delta_n}$, která splňuje, že leží v definičním oboru a pro dostatečně velká $n$ $x_{\\delta_n} \\to x_0$, ale $f(x_{\\delta_n})$ nekonverguje k $A$, což je sporem."
   ]
  },
  {
   "cell_type": "markdown",
   "id": "58b45de8-e93e-41bf-9f13-6837553fa58a",
   "metadata": {},
   "source": [
    "# Aproximační vlastnost Taylorova polynomu (Peanova) (6.8.4)\n",
    "Nechť $f: \\mathbb{R} \\to \\mathbb{R}, x_0 \\in \\mathbb{R}, n \\in \\mathbb{N} a f^{(n)}(x_0) \\in \\mathbb{R}$. Pak existuje právě jeden polynom $Q_n$ stupně nejvýše $n$ takový, že:\n",
    "$$\n",
    "f(x) - Q_{n}(x) = o((x-x_0)^n)\n",
    "$$\n",
    "Navíc $Q_n = P_n$\n",
    "\n",
    "*Důkaz:*\n",
    "Krok 1: Aproximační vlastnost Taylorova polynomu. Nejprve nechť $n=1$. Protože $P_1(x) = f(x_0) + f'(x_0)(x-x_0)$, dokazovaná vlastnost:\n",
    "$$\n",
    "\\lim_{x \\to x_0} \\frac{f(x)-P_1(x)}{x-x_0} = 0 <=> \\lim_{x \\to x_0} \\frac{f(x) - f(x_0)-f'(x_0)(x-x_0)}{x-x_0} = 0 \n",
    "$$\n",
    "plyne z existence vlastní $f'(x_0)$. Nyní uvažujme $n\\geq 2$. Použijeme (n-1)-krát l'Hospitalovo pravidlo a dostáváme:\n",
    "$$\n",
    "\\lim_{x \\to x_0} \\frac{f(x)- \\sum_{k=0}^{n} \\frac{f^{k}(x_0)}{n!}(x-x_0)^k}{(x-x_0)^n} = \\lim_{x \\to x_0} \\frac{f'(x) - \\sum_{k=1}^{n} \\frac{f^{k}k(x_0)}{n!}(x-x_0)^{k-1}}{n(x-x_0)^{n-1}} = ffw l'Hospital = \\lim_{x \\to x_0} \\frac{f^{(n-1)}(x)- f^{(n-1)}(x_0) - f^{(n)}(x_0)(x-x_0)}{n!(x-x_0)} = \\frac{1}{n!} (f^{(n)}(x_0)-f^{(n)}(x_0)) = 0\n",
    "$$\n",
    "Krok 2: jednoznačnost.\n",
    "Předpokládejme, že požadovanou aproximační vlastnost má ještě jeden polynom $Q_n$ se stupněm nejvýše $n$. Polynom $Q_n - P_n$ má stupeň nejvýše $n$ ,a proto jej můžeme přepsat (metodou postupného dělení se zbytekm) do tvaru:\n",
    "$$\n",
    "Q_n (x) - P_n (x) = a_n (x-x_0)^n + a_{n-1}(x-x_0)^{n-1} + ... + a_1 (x-x_0) a_0\n",
    "$$\n",
    "Kde $a_i \\in \\mathbb{R}$. Zároveň nám aproximační vlastnost dává:\n",
    "$$\n",
    "\\lim_{x \\to x_0} \\frac{Q_n (x)-P_n (x)}{(x-x_0)^n} = \\lim_{x \\to x_0} \\frac{Q_n (x)-f (x)}{(x-x_0)^n} + \\lim_{x \\to x_0} \\frac{f (x)- P_n (x)}{(x-x_0)^n}\n",
    "$$\n",
    "Proto musí být všechny koeficienty $a_i$ nulové a dostáváme $Q_n = P_n$"
   ]
  },
  {
   "cell_type": "markdown",
   "id": "187b9d93-0fed-4482-ba54-a628c2c64224",
   "metadata": {},
   "source": [
    "# Cauchyho tvar zbytku Taylorova polynomu "
   ]
  },
  {
   "cell_type": "markdown",
   "id": "66d8c8d2-a2f6-4e52-aa40-ba080a0ad930",
   "metadata": {},
   "source": [
    "# Lagrangeův tvar zbytku Taylorova polynomu "
   ]
  },
  {
   "cell_type": "markdown",
   "id": "d1dce024-3f1e-4395-8949-288e1326c7e6",
   "metadata": {},
   "source": [
    "# Stejnoměrná spojitost fce na intervalu (Cantorova věta) (6.2.15)\n",
    "Nechť $f: [a,b] \\to \\mathbb{R}$ je spojitá na $[a,b]$. Pak je zde stejnoměrně spojitá.\n",
    "\n",
    "*Důkaz:*\n",
    "Nechť $f$ není stejnoměrně spojitá na $[a,b]$. Pak existuje $\\epsilon > 0$ takové, že k němu nenajdeme $\\delta > 0$ s vlastností z definice stejnoměrné spojitosti. Tedy pro každé $\\delta_n = \\frac{1}{n}$ existuje dvojice bodů $x_n, y_n \\in [a,b]$ splňující:\n",
    "$$\n",
    "|x_n - y_n < \\frac{1}{n}| \\, a \\, |f(x_n)-f(y_n)| \\geq \\epsilon \n",
    "$$\n",
    "Posloupnosti {$x_n$} a {$y_n$} jsou omezené. Dvojím předhocem k podposloupnosti (pomocí Weierstrasse 5.5.4) dostáváme:\n",
    "$$\n",
    "x_{n_k} \\to  x a n_{n_k} \\to x \n",
    "$$\n",
    "Ze spojitosti proto plyne, že:\n",
    "$$\n",
    "f(x_{n_k}) \\to f(x) \\leftarrow f(y_{n_k})\n",
    "$$\n",
    "Což je ve sporu s tím, že $|f(x_{n_k}) -f(y_{n_k})| \\geq \\epsilon$"
   ]
  },
  {
   "cell_type": "markdown",
   "id": "4bc1b085-47b1-4c0e-815f-a7780249a42e",
   "metadata": {},
   "source": [
    "# Spojitost monotónní funkce a R.i (7.3.5)\n",
    "Mějme monotónní $f:\\mathbb{R}\\to \\mathbb{R}$ spojitou na nějakém intervalu. Pak je zde riemannovsky integrovatelná.\n",
    "\\\n",
    "*Důkaz:*\n",
    "f je stejnoměrně spojitá na tomto intervalu (Cantorova věta tuším). Všechny funkční hodnoty jsou stejně vzdálenné. Nyní užijeme podmínku existence Rieamannova integrálu. Pro $\\epsilon > 0$. Dělení $\\max_{j=1} (x_j-x_{j-1})$\n",
    "\n",
    "Ať je supremum a infimum jakékoliv, tak bude mezi nimi vždy stejně velká vzdálennost\n",
    "### Alternativní důkaz\n",
    "*Důkaz:*\n",
    "\\\n",
    "Zvolme $\\epsilon > 0$. Zafixujme $n \\in \\mathbb{N}$ a uvažme ekvvidistantní dělení $D = (x_j)^{n}_{j=0} = (a+(b-a)\\frac{j}{n})^{n}_{j=0}$. Pak:\n",
    "$$\n",
    "S(f,D) - s(f,D) = \\sum_{j=1}^{n} (\\sup_{[x_{j-1}, x_{j}]}) f - \\inf_{[x_{j-1},x_{j}]})(x_j - x_{j-1}) = \\frac{b-a}{n} \\sum^{n}_{j=1}(\\sup_{[x_{j-1}, x_{j}]}) f - \\inf_{[x_{j-1},x_{j}]}) \\leq  \\frac{b-a}{n} \\sum^{n}_{j=1}(\\sup_{x,y \\in [x_{j-1}, x_{j}]})) |f(x)-f(y)| \\leq (b-a) (\\sup_{x,y \\in [x_{j-1}, x_{j}]\\leq \\frac{b-a}{n}})) |f(x)-f(y)|\n",
    "$$\n",
    "Podle Cantorovy věty o stejnoměrné spojitosti (6.2.15) je naše funkce stejnoměrně spojitá na $[a,b]$, odkud pro $n$ dostatečně velké máme, že poslední nerovnost je menší, než nějaké $\\epsilon$:\n",
    "$$\n",
    "\\sup_{x,y \\in [x_{j-1}, x_{j}]\\leq \\frac{b-a}{n}} |f(x)-f(y)| < \\epsilon \n",
    "$$\n",
    "Tedy $S(f,D) - s(f,D) < (b-a)\\pesilon$. Podle kritériea existence Reiamnnova integrálu je hotovo, vymalováno. \n"
   ]
  },
  {
   "cell_type": "code",
   "execution_count": null,
   "id": "a7670d8e-d697-4fe3-81eb-4597b7667d31",
   "metadata": {},
   "outputs": [],
   "source": []
  },
  {
   "cell_type": "markdown",
   "id": "73767eb0-3fcf-4ce2-afc3-5ff9548da1b4",
   "metadata": {},
   "source": [
    "# Hlavní věta diferenciálního a integrálního počtu (7.5.12)\n",
    "Nechť $f$ a $F$ jsou jako výše. Pak:\n",
    "(i) funkce $F$ je spojitá na $[a,b]$\n",
    "(ii) Je-li $f$ spojitá v $x \\in (a,b)$, platí $F'(x_0) = f(x_0)$ (analogicky pro jednostrannou spojitost v krajních bodech a jednostranné derivace).\n",
    "Speciálně, je-li $f$ spojitá na $(a,b)$, pak $F'=f$ na $(a,b)$\n",
    "*Důkaz:*\n",
    "Dokažme nejprve první bod. Nechť $x_0 \\in [a,b)$ a $x \\in (x_0,b]$. Označme $L = \\sup_{[a,b]}|f|$. Pak \n",
    "$$\n",
    "|F(x)-F(x_0)| = |(R) \\int_{a}^{x}f dy - (R) \\int_{a}^{x_0} f dy| = |(R) \\int_{x_0}^{x}d dy| \\leq L(R)\\int_{}^{}\n",
    "$$"
   ]
  },
  {
   "cell_type": "markdown",
   "id": "0f124a1f-e967-4961-8974-2977564d7f16",
   "metadata": {},
   "source": [
    "# Perpartes pro Riemannův integrál\n",
    "Nechť $f,g \\in C^{1}([a,b])$. Pak:\n",
    "$$\n",
    "(R) \\int_{a}^{b}f'g dx = [fg]_{a}^{b} - (R) \\int_{a}^{b}fg' dx \n",
    "$$"
   ]
  },
  {
   "cell_type": "code",
   "execution_count": null,
   "id": "896d3304-a26e-4bbd-8904-c4d8f5c1117f",
   "metadata": {},
   "outputs": [],
   "source": []
  }
 ],
 "metadata": {
  "kernelspec": {
   "display_name": "Python 3 (ipykernel)",
   "language": "python",
   "name": "python3"
  },
  "language_info": {
   "codemirror_mode": {
    "name": "ipython",
    "version": 3
   },
   "file_extension": ".py",
   "mimetype": "text/x-python",
   "name": "python",
   "nbconvert_exporter": "python",
   "pygments_lexer": "ipython3",
   "version": "3.11.4"
  }
 },
 "nbformat": 4,
 "nbformat_minor": 5
}
