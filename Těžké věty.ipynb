{
 "cells": [
  {
   "cell_type": "markdown",
   "id": "265ce14c-1bb0-443d-a1b0-19033ef8d7ce",
   "metadata": {},
   "source": [
    "# Těžké věty"
   ]
  },
  {
   "cell_type": "code",
   "execution_count": null,
   "id": "1258e9eb-0096-48b7-9668-43fc51b6ba9d",
   "metadata": {},
   "outputs": [],
   "source": []
  }
 ],
 "metadata": {
  "kernelspec": {
   "display_name": "Python 3 (ipykernel)",
   "language": "python",
   "name": "python3"
  },
  "language_info": {
   "codemirror_mode": {
    "name": "ipython",
    "version": 3
   },
   "file_extension": ".py",
   "mimetype": "text/x-python",
   "name": "python",
   "nbconvert_exporter": "python",
   "pygments_lexer": "ipython3",
   "version": "3.11.5"
  }
 },
 "nbformat": 4,
 "nbformat_minor": 5
}
