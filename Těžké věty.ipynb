{
 "cells": [
  {
   "cell_type": "markdown",
   "id": "265ce14c-1bb0-443d-a1b0-19033ef8d7ce",
   "metadata": {},
   "source": [
    "# Těžké věty"
   ]
  },
  {
   "cell_type": "code",
   "execution_count": null,
   "id": "1258e9eb-0096-48b7-9668-43fc51b6ba9d",
   "metadata": {},
   "outputs": [],
   "source": [
    "# Aritmetika limit "
   ]
  },
  {
   "cell_type": "markdown",
   "id": "c0785003-a6f2-463c-bd67-e2367ff2d04d",
   "metadata": {},
   "source": [
    "# Darbouxova věta (6.2.1)\n",
    "Nechť $f: \\mathbb{R} \\to \\mathbb{R}$ je spojitá na $[a,b] \\subset \\mathbb{R}$. Pak na $[a,b]$ nabývá všech hodnot mezi $f(a)$ a $f(b)$\n",
    "\n",
    "\\\n",
    "*Důkaz:*\n",
    "Bez újmy na obecnosti můžeme předpokládat, že $f(a) < f(b)$ (pokud $f(a)=f(b)$, netřeba nic dokazovat). Pokud $f(a)>f(b)$, pak jen přehodíme znaménko funkce. Zvolme $A \\in (f(a), f(b))$. Označme:\n",
    "$$\n",
    "M = {x \\in [a,b]: f(x) < A} \\, a \\, c= \\sup(M) \n",
    "$$\n",
    "Očividně není možné, aby $M = \\emptyset$ (Množina bude obsahovat vždy alespoň okrajové body.). Z toho důvodu bude $c \\in [a,b]$. Ze spojitosti funkce $f$ v bode $b$ plyne, že $c\\neq b$. Podobně platí $c \\neq a$, a tedy $c \\in (a,b)$. Dále nemůže platit, že by bylo $f(c) < A$(v rozporu s definicí) - existovalo by nějaké okolí bodu $c$, které by leželo v M a $c$ by nemohlo být supremem. Když by naopak platilo, že $f(c) >A $, tak by zase ze spojitosti okolí bodu $c$ bylo celé mimo množinu a znovu by nemohlo být supremem. Nutně pro všechny podmnožiny vybrané stanoveným způsobem musí platit, že $f(c) = A$ a nabývá tedy právě hodnoty $A$(postupně všechny body funkce na daném intervalu) $\\square$"
   ]
  },
  {
   "cell_type": "markdown",
   "id": "3ea59301-6d4a-4cc0-a2fa-e496c99c8fb3",
   "metadata": {},
   "source": [
    "# Derivace složené funkce\n",
    "Nechť $f,g: \\mathbb{R} \\to \\mathbb{R}, x_0 \\in \\mathbb{R}, f'(x_0) \\in \\mathbb{R}, g'(f(x_0)) \\in \\mathbb{R}$. Pak:\n",
    "$$\n",
    "(g o f)'(x_0) = g'(f(x_0))f'(x_0)\n",
    "$$\n",
    "\\\n",
    "*Důkaz:*\n",
    "Uvažme dva případy. Nejprve nechť $f'(x_0) \\neq 0$. Nutně pak existuje prstencové okolí bodu $x_0$, na němž máme $\\frac{f(x)-f(x_0)}{x-x_0}$ odražené od nuly, proto také $f(x) \\neq f(x_0)$. Zároveň máme $\\lim_{x \\to x_0} f(x) = f(x_0)$ (spojitost). Dále má tedy smysl provést odvození pomocí aritmetiky limit. Začněme tedy rozepsáním:\n",
    "$$\n",
    "\\lim_{x \\to x_0} \\frac{g(f(x))-g(f(x_0))}{x-x_0} = \\lim_{x \\to x_0} \\frac{g(f(x))-g(f(x_0))}{x-x_0} \\frac{f(x)-f(x_0)}{x-x_0} = \\lim_{x \\to x_0} \\frac{f(x)-f(x_0)}{x-x_0} \\lim_{x \\to x_0} \\frac{g(f(x))-g(f(x_0))}{x-x_0} = f'(x_0) g'(f(x_0))\n",
    "$$\n",
    "Když však náhodou nastane, že $f'(x_0)=0$, tak musí platit, že $\\lim_{x \\to x_0} \\frac{g(f(x))-g(f(x_0))}{x-x_0} = 0$ a tedy:\n",
    "$$\n",
    "x \\in P_{\\delta_1}(x_0) => |\\frac{f(x)-f(x_0)}{x-x_0}| < \\epsilon\n",
    "$$\n",
    "Ze spojitosti $f$ a konečnosti (jinými slovy omezenosti)$g'(f(x_0))$ a Větě o vztahu limity a omezenosti (3.1.21 - jednoduché věty). Tedy existují taková $\\delta_2 >0$ a $K>0$ taková, že:\n",
    "$$\n",
    "x \\in P_{\\delta_2} \\land f(x) \\neq f(x_0) => |\\frac{g(f(x))-g(f(x_0))}{f(x)-f(x_0)}| \\leq K\n",
    "$$\n",
    "Nyní uděláme klasický typický trik a položíme $\\delta = min(\\delta_1, \\delta_2)$, Budou na prstencovém okolí tedy platit, obě podmínky a:\n",
    "$$\n",
    "|\\frac{g(f(x))- g(f(x_0))}{x-x_0}|=|\\frac{f(x)-f(x_0)}{x-x_0}| |\\frac{g(f(x))-g(f(x_0))}{f(x)-f(x_0)}| < K \\epsilon\n",
    "$$\n",
    "Zase ekvivalentní definice limity lmao. Celkově tedy platí, že:\n",
    "$$\n",
    "x \\in P_{\\delta} (x_0) => |\\frac{g(f(x))-g(f(x_0))}{x-x_0}| < K \\epsilon\n",
    "$$\n",
    "JInými slovy $(g o f)' = 0$ DOKÁZÁNO. $\\square$"
   ]
  },
  {
   "cell_type": "markdown",
   "id": "f2dd19bb-371b-4026-94e8-78425463056c",
   "metadata": {},
   "source": [
    "# Derivace inverzní funkce (3.3.16)\n",
    "Nechť $x_0 \\in \\mathbb{R} \\, a \\, f:\\mathbb{R} \\to \\mathbb{R}$ splňuje následující:\n",
    "- (i) existují  $\\alpha, \\beta_1, \\beta_2 > 0$ taková, že $f$ je prosté na $(x_0-\\alpha, x_0 + \\alpha)$ a zobrazuje tento interval na $(f(x_0)-\\beta_1, f(x_0)+\\beta_2)$\n",
    "- (ii) existuje vlastní nenulová derivace v bodě $x_0$\n",
    "- (iii) $f^{-1}$ je spojitá v bodě $y_0 = f(x_0)$.\n",
    "Pak existuje derivace $f^{-1}$ v bodě $y_0$ a platí:\n",
    "$$\n",
    "(f^{-1})'(y_0) = \\frac{1}{f'(x_0)}\n",
    "$$\n",
    "Čili:\n",
    "$$\n",
    "(f^{-1})'(f(x_0)) = \\frac{1}{f'(x_0)}\n",
    "$$\n",
    "Alternativně:\n",
    "$$\n",
    "(f^{-1})'(y_0) = \\frac{1}{f'(f^{-1}(y_0))}\n",
    "$$\n",
    "\n",
    "\n",
    "*Důkaz:* Protože $f'(x_0) \\neq 0$, máme na jistém prstencovém okolí $P_{\\delta}(x_0)$ diferenční podíly nenulové, a proto lze definovat pomocnou funkci:\n",
    "\n",
    "h(x) =\n",
    "\\begin{cases}\n",
    "  \\frac{x - x_0}{f(x) - f(x_0)} & \\text{for } x \\in P_\\delta(x_0) \\\\\n",
    "  \\frac{1}{f'(x_0)} & \\text{for } x = x_0\n",
    "\\end{cases}\n",
    "\n",
    "Podle aritmetiky limit a definice derivace je tato funkce spojitá v $x_0$. Nyní již stačí použít definici derivace a, že $f^{-1}$ existuje na jistém okolí bodu $f(x_0)$(využíváme předpokladu ii), a větu o spojitosti složené funkce (3.2.9) a předpokladu (iii) v kombinaci se spojitostí h v $x_0$. \n",
    "$$\n",
    "(f^{-1})'(f(x_0)) = \\lim_{y \\to f(x_0)} \\frac{f^{-1} - f^{-1}f(f(x_0))}{y-f(x_0)} = \\lim_{y \\to f(x_0)}h(f^{-1}(f(x_0))) = h(x_0) = \\frac{f'(x_0)}.\n",
    "$$\n"
   ]
  },
  {
   "cell_type": "markdown",
   "id": "5d586727-fbc9-476d-a3c1-06aff904d2fc",
   "metadata": {},
   "source": [
    "# Nabývání extrémů na intervalu (?????)"
   ]
  },
  {
   "cell_type": "markdown",
   "id": "d9b9c235-e9ee-4548-960b-fbc08f31a70d",
   "metadata": {},
   "source": [
    "# L' Hospitalovo pravidlo"
   ]
  },
  {
   "cell_type": "markdown",
   "id": "62d7d080-8947-4bcd-9bfc-01020b611504",
   "metadata": {},
   "source": [
    "# Inverze spojité, monotónní funkce (6.2.10)\n",
    "Nechť $f: (a,b) \\to \\mathbb{R}$ je ryze monotónní a spojitá na (a,b). Pak existuje spojitá $f^{-1}$ na $f((a,b))$ a má stejný typ monotonie jako $f$.\n",
    "\n",
    "*Důkaz:*\n",
    "Uvažme jen případ rostoucí funkce, protože ke klesající prostě jenom obrátíme znaménko. Podle věty o existenci limity pro monotonní funkci (5.1.12) máme definováno:\n",
    "$$\n",
    "\\alpha = \\lim_{x \\to a^{+}}f(x) = \\inf_{(a,b)}f\n",
    "$$\n",
    "$$\n",
    "\\beta = \\lim_{x \\to b^{-}}f(x) = \\sup_{(a,b)} f\n",
    "$$\n",
    "Díky ryzí monotonii na původním intervalu $(a,b)$ musí notně platit, že $\\alpha < \\beta$. Když $\\alpha, \\beta \\in \\mathbb{R}$ (nezahrnuje nekonečna), tak můžeme spojitě dodefinovat $f(a)=\\alpha, f(b)=\\beta$, čímž neztratíme monotonii (pořád zachováváme nerovnost). Zřejmě potom $f$ zobrazuje $[a,b]$ do $[\\alpha,\\beta]$. Navíc je díky spojitosti v kombinaci s Darbouxem (6.2.1)(je spojitá, a tedy nabývá všech mezibodů) toto zobrazení na. Proto musí notně existovat také inverze, která je spojitá díky Větě o vztahu spojitosti a tvaru obrazu pro monotonní funkci (6.2.9). Pokud bychom vstoupili do prostoru nekonečen musíme provést nějaká další trik, na který se musím \n",
    "### ZEPTAT"
   ]
  },
  {
   "cell_type": "markdown",
   "id": "6334201f-0a0e-447a-80b6-31653d1827ad",
   "metadata": {},
   "source": [
    "# Bolzano Weierstrassova věta\n",
    "Z každé omezené posloupnosti reálných čísel lze vybrat konvergentní podposloupnost.\n",
    "*Důkaz:*\n",
    "Důkaz si zakládá na využití věty o dvou strážnících(5.1.27), protože je zatím ale nemáme, tak musíme tyto represivní složky nějak vytvořit."
   ]
  },
  {
   "cell_type": "code",
   "execution_count": null,
   "id": "d4d054bf-83ed-456d-904f-0e9770e17bbb",
   "metadata": {},
   "outputs": [],
   "source": [
    "# Bolzano - Cauchyho podmínka a konvergence posloupnost"
   ]
  },
  {
   "cell_type": "markdown",
   "id": "116d6e74-e285-43af-8e14-0e67e2720533",
   "metadata": {},
   "source": [
    "# Heineho věta (5.4.1)\n",
    "Nechť funkce $f: \\mathbb{R} \\to \\mathbb{R}, x_0 \\in \\mathbb{R}^{*}, A \\in \\mathbb{R}^{*}$ a pro každé $\\delta >0$ platí, že $P_{\\delta}(x_0) \\cap D_f \\neq \\emptyset$. Potom $\\lim_{x \\to x_0}f(x) = A$ právě tehdy, když $\\lim_{n \\to \\infty}f(x_n)=A$ pro každou posloupnost $(x_n) \\subset D_f -(x_0)$ splňující $x_n \\to x_0$.\n",
    "\n",
    "\n",
    "*Důkaz:*\n",
    "$=>$ Zvolme $\\epsilon > 0$. Potom k němu existuje $\\delta >0$ takové, že:\n",
    "$$\n",
    "x \\in P_{\\delta} (x_0) => f(x) \\in U_{\\epsilon}(A) \n",
    "$$\n",
    "Pokud nyní uvážíme posloupnost $(x_n) \\subset D_f - (x_0)$ splňující $x_n \\to x_0$ od nějakého indexu musí notně platit, že $x_n \\in P_{\\delta}(x_0)$ odkud potom plyne druhá limita. Nyní dokažme opačnou implikaci. Sporem předpokládáme že $\\lim_{x \\to x_0}f(x) \\neq A$. Potom s jistotou existuje $\\epsilon >0$ takové, že pro každé $\\delta > 0$ existuje $x_{\\delta} \\in P_{\\delta}(x_0)$ tak, že $f(x_delta) \\notin U_{\\epsilon}(A)$. Zvolíme-li vhodně posloupnost okolí $P_{\\delta_n}(x_0)$(pro $x_0 \\in \\mathbb{R}$stačí uvážit $P_{\\frac{1}{n}}(x_0)$), pro $x_0 = + \\infty$ bereme $(n, +\\infty)$. Máme posloupnost $x_{\\delta_n}$, která splňuje, že leží v definičním oboru a pro dostatečně velká $n$ $x_{\\delta_n} \\to x_0$, ale $f(x_{\\delta_n})$ nekonverguje k $A$, což je sporem."
   ]
  },
  {
   "cell_type": "code",
   "execution_count": null,
   "id": "68ba1a24-06cc-4f70-b309-12821971a45b",
   "metadata": {},
   "outputs": [],
   "source": []
  }
 ],
 "metadata": {
  "kernelspec": {
   "display_name": "Python 3 (ipykernel)",
   "language": "python",
   "name": "python3"
  },
  "language_info": {
   "codemirror_mode": {
    "name": "ipython",
    "version": 3
   },
   "file_extension": ".py",
   "mimetype": "text/x-python",
   "name": "python",
   "nbconvert_exporter": "python",
   "pygments_lexer": "ipython3",
   "version": "3.11.4"
  }
 },
 "nbformat": 4,
 "nbformat_minor": 5
}
