{
 "cells": [
  {
   "cell_type": "markdown",
   "id": "0c4b991e-e456-4b82-944f-3894a632ab7d",
   "metadata": {},
   "source": [
    "# Jednoduché věty"
   ]
  },
  {
   "cell_type": "markdown",
   "id": "7d632d27-2d8a-4c7f-8646-ba24969fd48c",
   "metadata": {},
   "source": [
    "# Trojúhelníková nerovnost (2.2.42)\n",
    "Pro všechna $x,y,z \\in \\mathbb{R}$ platí:\n",
    "$$\n",
    "|x+y| \\leq |x| + |y| \n",
    "$$\n",
    "$$\n",
    "||x|-|y|| \\leq |x-y|\n",
    "$$\n",
    "$$\n",
    "|x-z| \\leq |x-y| + |y-z|\n",
    "$$\n",
    "Důkaz:\n",
    "Z definice absolutní hodnoty:\n",
    "$$\n",
    "-|x| \\leq x \\leq |x|, -|y| \\leq y \\leq |y| \n",
    "$$\n",
    "Sečtením těchto dvou členů ziskáváme:\n",
    "$$\n",
    "-(|x| + |y|) \\leq x+y \\leq |x| + |y|\n",
    "$$\n",
    "Odsud už plyne první zmíněná nerovnost, která je i tak docela zřejmá. Provedeme tzv. trik:\n",
    "$$\n",
    "|x| = |x+y-y| \\leq |x-y| + |y| \n",
    "$$\n",
    "(využili jsme znovu první nerovnosti($x=x-y,y=y$)). Nyní můžeme převést $|y|$ na druhou stranu a získáme:\n",
    "$$\n",
    "|x|-|y| \\leq |x-y|\n",
    "$$\n",
    "Nyní z definice absolutní hodnoty plyne, že kdybychom prohodily záporná znaménka, tak by nerovnost stále platila, pročež můžeme konečně upravit na:\n",
    "$$\n",
    "||x|-|y|| \\leq |x-y|\n",
    "$$"
   ]
  },
  {
   "cell_type": "markdown",
   "id": "af0399b3-906c-45d2-8207-af386b3ea8d4",
   "metadata": {},
   "source": [
    "# Cauchy-Schwarzova nerovnost\n",
    "Nechť máme dvě n-tice reálných čísel $a_1 ... a_n$ a $b_1 ... b_n $ a $\\epsilon >0$. Pak platí:\n",
    "$$\n",
    "(\\sum_{k=1}^{n} a_k b_k)^2 \\leq (\\sum_{k=1}^{n}a_k^2) (\\sum_{k=1}^{n}b_k^2)\n",
    "$$\n",
    "a\n",
    "$$\n",
    "\\sum_{k=1}^{n} a_k b_k \\leq \\epsilon \\sum_{k=1}{n} a_k^2 + \\frac{1}{4 \\epsilon} \\sum_{k=1}^{n} b_k^2\n",
    "$$\n",
    "\n",
    "*Důkaz*\n",
    "Nejprve si povšimněme, že pro libovolné $\\lambda \\in \\mathbb{R}$ platí (plyne z druhé mocniny):\n",
    "$$\n",
    "\\sum_{k=1}^n (\\lambda a_k + b_k)^2 \\geq 0 \n",
    "$$\n",
    "Definujme si nyní nějaké proměnné $A = \\sum_{k=1}^{n}a^2$, $B = \\sum_{k=1}^{n}b^2$ a $C = \\sum_{k=1}^{n}ab$ a využijme rozkladu sumy:\n",
    "$$\n",
    "\\lambda^2 A + 2 \\lambda B + C \\geq 0\n",
    "$$\n",
    "Trikově si položmě $\\lambda = -\\frac{B}{A}$($\\lambda$ může být jakékoliv, klidně takové. Nepřítel zadá haha), čímž získáme:\n",
    "$$\n",
    "\\frac{B^2}{A} -2 \\frac{B^2}{A} + C \\geq 0\n",
    "$$\n",
    "Nerovnost upravme do tvaru:\n",
    "$$\n",
    "-B^2 +CA \\geq 0 => B^2 \\leq CA\n",
    "$$\n",
    "Právě těmito úpravami a naší substitucí jsme tedy získali přesně Cauchy-Schwarzovu nerovnost. \n",
    "$\\square$ :)"
   ]
  },
  {
   "cell_type": "markdown",
   "id": "d7f1aa5e-9e90-4a60-bcc6-33f609631fe3",
   "metadata": {},
   "source": [
    "# AG nerovnost (2.2.49)\n",
    "AG nerovnost říká, že platí:\n",
    "$$\n",
    "\\sqrt{a_1 a_2 ... a_n}^{n} \\leq \\frac{a_1 + a_2 + ... + a_n}{n}\n",
    "$$\n",
    "Důkaz provedeme pomocí takové zábavné indukce - jako na cvičení. Všimněme si tedy, že pro $n=1$ nerovnost zjevně platí a pro $n=2$ rovněž (Youngova nerovnost). Postup indukce odsud následující, nejprve dokážeme, že lze skákat \"o dva\" a později ukážeme, že je možné se i vrátit (to, proč je možné předpokládáme skákat o 2 vyvozujeme z toho, že by mělo být možné chodit o n). \n",
    "\n",
    "# lalallalalal TODO"
   ]
  },
  {
   "cell_type": "markdown",
   "id": "8a259959-b28c-4847-b202-5d71b1ba2e60",
   "metadata": {},
   "source": [
    "# Souvislost limity a jednostranných limit (3.1.16)\n",
    "Mějme $f: \\mathbb{R} \\to \\mathbb{R}, x_0 \\in \\mathbb{R}$ a $A \\in \\mathbb{R}$. Potom platí, že:\n",
    "\n",
    "$$\n",
    "\\lim_{x\\to x_0} = A <=> \\lim_{x \\to x_0^-} = \\lim_{x\\to x_0^+}=  A \n",
    "$$\n",
    "*Důkaz*\\\n",
    "Důkaz plyne implikace vpravo je zřejmý z definice limity - umíme-li nalézt k nějakému $\\epsilon >0$ najít takové $\\delta > 0$, aby na prstencovém okolí bodu $x_0$ platila požadovaná nerovnost, tak tato nerovnost bude platit i na levém i na pravém prstencovém okolí. Implikace opačný směrem dokážeme z definice limity. Za předpokladu, že pravá a levá limita existují a jsou obě rovné $A$ tedy platí:\n",
    "$$\n",
    "x \\in P_{\\delta_1}^-(x_0)- => f(x) \\in U_\\epsilon a x \\in P_{\\delta_1}^+(x_0) => f(x) \\in U_\\epsilon\n",
    "$$\n",
    "Teď provedeme to, co ve spoustě pozdějších důkazů, a sice položíme $\\delta$ rovno $min{\\delta_1,\\delta_2}$ a máme hotovo.\n",
    "\n",
    "Pozn.: Důvod, proč to funguje plyne z představy toho, co to $\\epsilon$ okolí bodu je. Představíme-li si jej jako malinkou kuličku kolem bodu $A$ o poloměru $\\delta$(bez středu), pro jejíž vnitřek platí, že má nějakou vlastnost. Vezmeme-li nějaký menší poloměr (třebas $\\delta_2$) a v bodě $A$ uděláme novou kuličku, tak by přeci měla mít stejné hypotetické vlastnosti jako vnější kulička, ale k tomu třeba splňovala nějaké další. - nemyslim si, že to je úplně rigorózně správně xd"
   ]
  },
  {
   "cell_type": "markdown",
   "id": "70b593a7-5f24-4915-867c-58b88c00e331",
   "metadata": {},
   "source": [
    "# O jednoznačnosti limity (3.1.12)\n",
    "Mějme $f:\\mathbb{R} \\to \\mathbb{R}$ a $x_0 \\in \\mathbb{R}$. Potom existuje právě jedna limita této funkce v bodě $x_0$.\n",
    "*Důkaz:*\n",
    "Provedeme jej snadno sporem. Předpokládejme tedy, že je limita současně rovna $A$ a $B$. Zvolme trikově $\\epsilon = \\frac{|A-B|}{3} > 0$ (Teď jsem v roli nepřítele, volím si to tak, aby to nefungovalo hahahaha) a znovu postupujme z definice limty:\n",
    "$$\n",
    "x \\in P_{\\delta_1}(x_0) => f(x) \\in U_\\epsilon (A) x \\in P_{\\delta_2} => f(x) \\in U_\\epsilon (B)\n",
    "$$\n",
    "$$\n",
    "x \\in P_{\\delta_2} => f(x) \\in U_\\epsilon (B)\n",
    "$$\n",
    "Zvolme si nyní - podobně jako posledně - $\\delta = min{\\delta_1, \\delta_2}$ (máme právě takové x, pro které platí, že nabírá hodnoty $A$ a leží v okolí bodu $B$):\n",
    "$$\n",
    "3\\epsilon = |A - B| = |A-f(x) + f(x)-B| \\leq |A - f(x)| + |f(x)-B| \\leq 2\\epsilon\n",
    "$$\n",
    "Nejprve přičítáme funkční hodnoty a poté využíváme trojúhelníkové nerovnosti $|x+y| \\leq |x|+|y|$. Nakonec si všímáme, že vzniklé členy jsou vlastně definicemi okolí příslušných bodů. $\\square$ \\\n",
    "\n",
    "Pozn.: Když si představím, jak by to vypadalo graficky, tak kdyby to neplatilo, tak by to musel znamenat, že funkce se blíží dvoum hodnotám zároveň, což je v rozporu s definicí funkce jako jednoznačného zobrazení? Zeptat se Součka  "
   ]
  },
  {
   "cell_type": "markdown",
   "id": "ea54bfde-add2-4d0b-8423-4afbd7667e22",
   "metadata": {},
   "source": [
    "# Vztah limity a omezenosti (3.1.21)\n",
    "Mějme $f: \\mathbb{R} \\to \\mathbb{R}$ a nechť $\\lim_{x \\to x_0} f(x) = A \\in \\mathbb{R}$. Pak je f na jistém prstencovém okolí bodu $x_0$ omezená.\n",
    "*Důkaz*\n",
    "Zvolme si $\\epsilon$ libovolně, třeba rovno jendé. Potom musí existovat $\\delta > 0$ takové, že na $P_\\delta (x_0)$ platí $|f(x)-A|<1$. Nyní si trochu zatrikujme s přičítáním nuly a trojúhelníkovou nerovností:\n",
    "$$\n",
    "|f(x)| = |f(x) - A + A| \\leq |f(x)-A| + |A| \\leq 1+ |A|, x \\in P_\\delta (x_0) \n",
    "$$\n",
    "Tímto jsme dokázali, že je omezená( Nabývá maximálně hodnoty $|A| + \\epsilon$) $\\square$\n",
    "# Nenulová limita a odraženost od nuly (3.1.23)\n",
    "Nechť $f : \\mathbb{R} \\to \\mathbb{R}$, $x_0 \\in \\mathbb{R}$ a $\\lim_{x \\to x_0}f(x) = A \\in (\\mathbb{R} - 0)$. Pak je f na jistém prstencovém okolí bodu $x_0$ odražená od nuly. Speciálně, prstencové okolíje možné volit tak, že |f| je na něm odražena od nuly hodnotou $\\frac{|A|}{2}$.\n",
    "\n",
    "*Důkaz:*\n",
    "Začněme tím, že si zvolíme $\\epsilon = \\frac{|A|}{2}$. Potom musí notně existovat $\\delta >0$ takové, že na $P_\\delta(x_0)$ bude funkční hodnota v okolí $U_{\\frac{|A|}{2}}$, tedy opět jako minule - pouze s tím, že navíc užijeme ještě druhou trojúhelníkovou nerovnost:\n",
    "\n",
    "$$\n",
    "|f(x)| = |f(x)-A+A| \\geq ||A|-|f(x)-A|| \\geq |A| - |f(x)-A| \\geq |A| - \\epsilon = \\geq |A|- \\frac{|A|}{2} = \\frac{|A|}{2}\n",
    "$$"
   ]
  },
  {
   "cell_type": "markdown",
   "id": "61d480e3-7928-4eea-8bb0-3ad1b82944bc",
   "metadata": {},
   "source": [
    "# Aritmetika limit (3.1.24). \n",
    "Mějme $f,g: \\mathbb{R} \\to \\mathbb{R}$, $x_0 \\in \\mathbb{R}$, $x_0 \\in \\mathbb{R}$, $A,B \\in \\mathbb{R}$ a nechť obě funkce mají limity $A,B \\in \\mathbb{R}$ v bodě$x_0$. Potom platí následující\n",
    "$$\n",
    "\\lim_{x \\to x_0}(f(x) + g(x)) = A+B\n",
    "$$\n",
    "$$\n",
    "\\lim_{x \\to x_0}(f(x)* g(x)) = A*B\n",
    "$$\n",
    "$$\n",
    "\\lim_{x \\to x_0}(\\frac{f(x)} {g(x)}) = \\frac{A}{B}, B\\neq0\n",
    "$$\n",
    "\n",
    "*Důkaz:*\n",
    "Nejprve dokažme první část. Když tedy existují dvě limity, pak notně musí existovat $\\delta_1$ a $\\delta_2$ takové, že:\n",
    "$$\n",
    "x \\in P_{\\delta_1}(x_0) => |f(x)-A| < \\epsilon a x \\in P_{\\delta_2}(x_0) => |f(x)-B| < \\epsilon \n",
    "$$\n",
    "Položme nyní zase $\\delta = min(\\delta_1, \\delta_2)$ budou platit obě nerovnosti současně a tedy $x \\in P_\\delta (x_0)$ se bude zobrazovat na součet $\\epsilon$ okolí bodů $A$ a $B$ ($\\epsilon$ může být jakékoliv juj).\n",
    "Násobení - potřeba znovu vysvětlit, nemyslím si, že tomu dostatečně rozumím. \n",
    "# TODO násobení a dělení\n"
   ]
  },
  {
   "cell_type": "markdown",
   "id": "e1eabca3-9cbc-4e30-9432-70e486b91367",
   "metadata": {},
   "source": [
    "# Limita typu Omezená krát jdoucí k nule (3.1.39)\n",
    "Nechť $f,g :\\mathbb{R} \\to \\mathbb{R}$, $x_0 \\in \\mathbb{R}$ a $\\lim_{x \\to x_0} f(x) = 0$ a g je omezená na jistém prstencovém okolí bodu $x_0$(Má tam třebas limitu). Pak $\\lim_{x \\to x_0}g(x)f(x) = 0$\n",
    "*Důkaz:*\n",
    "Zvolme si nějaké $\\epsilon >0$. Potom s jistotou existují $\\delta>0$ (třeba znovu jako minimum z delt) a $K>0$taková, že platí:\n",
    "$$\n",
    "|f(x)| < \\epsilon a |g(x)| \\leq K\n",
    "$$\n",
    "Odtud $|f(x)g(x)| <K \\epsilon$ na jistém prstencovém okolí bodu $x_0$. Jedná se o ekvivalentní definici limity blížící se do bodu 0. ($\\epsilon$ může být jakékoliv lalalala klidně se pomocí něj můžeme zbavit $K$)"
   ]
  },
  {
   "cell_type": "markdown",
   "id": "fc067ff0-3fa6-4f84-80d4-9eb6ee88eaa4",
   "metadata": {},
   "source": [
    "# Vztah limity a spojitosti ()\n",
    "Asi definice spojitosti????"
   ]
  },
  {
   "cell_type": "markdown",
   "id": "963bc6f7-a066-4d1c-a750-5e6febac2b70",
   "metadata": {},
   "source": [
    "# Limita složené funkce (3.1.46)\n",
    "Nechť $f,g: \\mathbb{R}\\to \\mathbb{R}$, dále nechť $\\lim_{x \\to x_0}f(x)= A \\in \\mathbb{R}$, $\\lim_{y \\to A}g(x)=B \\in \\mathbb{R}$ a navíc $f(x)\\neq A$ na prstencovémo okolí bodu $x_0$, potom můžeme psát:\n",
    "$$\n",
    "\\lim_{x\\to x_0} g(f(x)) = B\n",
    "$$\n",
    "*Důkaz:*\n",
    "Zvolme $\\epsilon>0$. Protože $\\lim_{x \\to A} g(x) = B$ můžeme najít nějaké libovolně malé $\\delta > 0$ takové, že platí:\n",
    "$$\n",
    "y \\in P_\\delta (A) => g(y) \\in U_\\epsilon (B)\n",
    "$$\n",
    "Pak protože víme, že existuje nějaká limita funkce f v bodě $x_0$ můžeme najít nějaké $\\tau_1$ na jehož prstencovém okolí bude platit:\n",
    "$$\n",
    "x \\in P_{\\tau_1} (x_0) => f(x) \\in U_\\delta (A)\n",
    "$$\n",
    "Pak z poslední podmínky věty nalezneme $\\tau_2$ takové, aby na jeho okolí funkce $f$ nenabývala hodnoty $A$. Potom konečné $\\tau$ takové tak malé, aby na jeho prstencovém okolí platili současně obě podmínky výše. Najdeme jej znovu jako $min(\\tau_1,\\tau_2)$. $\\square$"
   ]
  },
  {
   "cell_type": "markdown",
   "id": "cddf9b34-d078-46d0-9f0c-3fe663b4e4de",
   "metadata": {},
   "source": [
    "# Zachování nerovnosti v limitě (3.1.34)\n",
    "Nechť $f,g: \\mathbb{R} \\to \\mathbb{R}$, $x_0 \\in \\mathbb{R}$, $A,B \\in \\mathbb{R}$, $\\lim_{x \\to x_0}f(x)= A \\in \\mathbb{R}$, $\\lim_{y \\to A}g(x)=B \\in \\mathbb{R}$. Jestliže platí, že $f\\leq g$ na jistém prstencovém okolí bodu $x_0$, potom platí i to, že $A < B$.\n",
    "\n",
    "*Důkaz:*\n",
    "Důkaz provedeme sporem $B < A$. Pak můžeme (Protože jsme v roli nepřítele), položi $\\epsilon = \\frac{1}{3} (A-B) > 0$. Z předpokladů věty můžeme nalézt $\\delta$ a jemu příslušné prstencové okolí bodu $x_0$, na němž bude platit:\n",
    "$$\n",
    "|f(x)-A| < \\epsilon , |g(x)-B| < \\epsilon \\; \\land \\; f(x)\\leq g(x) \n",
    "$$\n",
    "Pak ale platí:\n",
    "$$\n",
    "f(x) \\leq g(x) < B + \\epsilon = A - 2\\epsilon < f(x) - \\epsilon \n",
    "$$\n",
    "Což má vést ke sporu $\\square$."
   ]
  },
  {
   "cell_type": "markdown",
   "id": "abd024ab-a2d1-4fb8-a933-b4532b33b26d",
   "metadata": {},
   "source": [
    "# O dvou strážnících (3.1.36)\n",
    "Mějme tři funkce $f,g,h : \\mathbb{R} \\to \\mathbb{R}$, $x_0 \\in \\mathbb{R}$, $A \\in \\mathbb{R}$ a nechť $\\lim_{x \\to x_0} f(x) = \\lim_{x \\to x_0} h(x) = A$ a na jistém prstencovém okolí bodu $x_0$ platí $f\\leq g \\leq h$.\n",
    "\n",
    "*Důkaz:*\n",
    "Zvolme $\\epsilon > 0$, ptom pr odostatečně malé $\\delta > 0$(Zase jej zvolíme jako minimum z třech delta okolí tak, aby na něm platily všechny předpoklady věty). Potom bude současně platit:\n",
    "$$\n",
    "|f(x)-A| < \\epsilon , |g(x)-A| < \\epsilon \\; \\land \\; f(x)\\leq g(x) \\leq h(x) \n",
    "$$\n",
    "Potom na bude též platit:\n",
    "$$\n",
    "A - \\epsilon \\leq f(x) \\leq g(x) \\leq hg(x) \\leq A + \\epsilon\n",
    "$$\n",
    "Je to jinými slovy zapsané okolí bodu A - tak mi to přijde. $\\square$"
   ]
  },
  {
   "cell_type": "markdown",
   "id": "d4f0dbe3-f71f-4c88-8856-9dcc78752bca",
   "metadata": {},
   "source": [
    "# Vztah spojitosti v bodě a intervalu  (??? zase nevím, co to je za větu)\n",
    "Je-li funkce spojitá na intervalu I, potom to chápeme tak, že je spojitá právě v každém bodě intervalu??"
   ]
  },
  {
   "cell_type": "markdown",
   "id": "13bf98f9-4aff-4736-bfcf-f951dfc49987",
   "metadata": {},
   "source": [
    "# Vztah vlastní derivace a spojitosti (3.3.7) \n",
    "Nechť $f: \\mathbb{R} \\to \\mathbb{R}$ má v bodě $x_0 \\in \\mathbb{R}$ vlastní derivaci. Pak je funkce $f$ v tomto bodě spojitá.\n",
    "\n",
    "*Důkaz:*\n",
    "Protože vlastní limita implikuje omezenost na nějakém prstencovém okolí, existují $L>0$ a $\\delta>0$ taková, že:\n",
    "\n",
    "$$\n",
    "x \\in P_\\delta (x_0) => |\\frac{f(x)-f(x_0)}{x-x_0}| \\leq K\n",
    "$$\n",
    "Odtud dále získáme:\n",
    "$$\n",
    "0 \\leq |f(x)-f(x_0)| \\leq K |x-x_0|\n",
    "$$\n",
    "Což vede na větu o dvou stráčnících a spojitost."
   ]
  },
  {
   "cell_type": "markdown",
   "id": "4d363317-7964-404f-9ff1-3948191739ba",
   "metadata": {},
   "source": [
    "# Vztah vlastní spojitosti a derivace (??) - není to totéž jako 3.3.7?"
   ]
  },
  {
   "cell_type": "markdown",
   "id": "af46d72c-9e99-4988-956e-22d3e33c2d0d",
   "metadata": {},
   "source": [
    "# Derivace součtu, součinu a podílu (3.3.10)\n",
    "Nechť $f,g: \\mathbb{R} \\to \\mathbb{R}$ mají vlastní derivace v bodě $x_0 \\in \\mathbb{R}$. Pak\n",
    "$$\n",
    "(f+g)'(x_0) = f'(x_0) + g'(x_0)\n",
    "$$\n",
    "\\\n",
    "$$\n",
    "(fg)'(x_0) = f'(x_0)g(x_0) + f(x_0)g'(x_0)\n",
    "$$\n",
    "\\\n",
    "$$\n",
    "(\\frac{f}{g})'(x_0) = \\frac{f'(x_0)g(x_0)-f(x_0)g'(x_0)}{g^{2}(x_0)}\n",
    "$$\n",
    "*Důkaz:*\n",
    "Začnemě prvním vztahem. Rozepišme si definici derivace:\n",
    "$$\n",
    "\\lim_{x\\in x_0} = \\frac{}{}\n",
    "$$"
   ]
  },
  {
   "cell_type": "markdown",
   "id": "82d157ec-186a-4d96-acdb-c9b91d1f1689",
   "metadata": {},
   "source": [
    "'"
   ]
  }
 ],
 "metadata": {
  "kernelspec": {
   "display_name": "Python 3 (ipykernel)",
   "language": "python",
   "name": "python3"
  },
  "language_info": {
   "codemirror_mode": {
    "name": "ipython",
    "version": 3
   },
   "file_extension": ".py",
   "mimetype": "text/x-python",
   "name": "python",
   "nbconvert_exporter": "python",
   "pygments_lexer": "ipython3",
   "version": "3.11.5"
  }
 },
 "nbformat": 4,
 "nbformat_minor": 5
}
