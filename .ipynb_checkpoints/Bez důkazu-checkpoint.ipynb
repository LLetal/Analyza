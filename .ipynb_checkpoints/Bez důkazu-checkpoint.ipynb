{
 "cells": [
  {
   "cell_type": "markdown",
   "id": "8dd5b460-e3d7-4007-9411-25dc6d9ba563",
   "metadata": {},
   "source": [
    "# Kritérium existence Riemannova integrálu (7.3.1)\n",
    "Mějme $f: \\mathbb{R} \\to \\mathbb{R}$ je omezená na $[a,b]$. Pak:\n",
    "\n",
    "$$\n",
    "\\exists (R) \\int_{a}^{b} f dx <=> \\forall \\epsilon > 0 \\exists D: S(f,D) - s(f,D) < \\epsilon \n",
    "$$\n"
   ]
  },
  {
   "cell_type": "markdown",
   "id": "f0bdc9ea-3f6f-4767-9aed-f9ab2857c061",
   "metadata": {},
   "source": [
    "# Speciální pravá strana (4.4.10)\n",
    "Nechť:\n",
    "$$\n",
    "f(x) = e^{\\mu x} (P_1(x)cos(\\nu x)+P_2(x)sin(\\nu x))\n",
    "$$\n",
    "kde $\\mu, \\nu \\in \\mathbb{R}$ a $P_1, P_2$ jsou polynomy nějaké stupně. Pak existují $Q_1$ a $Q_2$ stupně nejvýše toho, kteréhož nabývá větší z těch dvou původních takové, že:\n",
    "$$\n",
    "y_p = e^{\\mu x}x ^{k} (Q_1(x)cos(\\nu x) + Q_2(x)sin(\\nu x))\n",
    "$$\n",
    "kde $k \\in \\mathbb{N}$ je násobnost čísla $\\mu + i\\nu$ jakožto kořene charakteristického polynomu rovnice."
   ]
  }
 ],
 "metadata": {
  "kernelspec": {
   "display_name": "Python 3 (ipykernel)",
   "language": "python",
   "name": "python3"
  },
  "language_info": {
   "codemirror_mode": {
    "name": "ipython",
    "version": 3
   },
   "file_extension": ".py",
   "mimetype": "text/x-python",
   "name": "python",
   "nbconvert_exporter": "python",
   "pygments_lexer": "ipython3",
   "version": "3.11.5"
  }
 },
 "nbformat": 4,
 "nbformat_minor": 5
}
