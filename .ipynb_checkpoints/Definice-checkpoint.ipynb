{
 "cells": [
  {
   "cell_type": "markdown",
   "id": "ae11fea7-9e91-4870-8734-ebae866fe0b6",
   "metadata": {},
   "source": [
    "# Definice\n",
    "Lze za ně získat maximálně 4 body při plné správnosti."
   ]
  },
  {
   "cell_type": "markdown",
   "id": "552a835b-4bd5-4b1f-a4c4-864c30cc3693",
   "metadata": {},
   "source": [
    "# Spočetné a nespočetné množiny (2.2.76)\n",
    "O množině říkáme, že je *spočetná* právě tehdy, když má stejnou mohutnost jako množina přirozených čísel(existuje-li prosté zobrazení z $\\mathbb{N}$ do množiny, která nás zajímá). Množina , k terá má konečný počet prvků je poté množina *konečná*. Je-li množina konečná  či spočetná se nazývá *nejvýše spočetná*. Nemá-li množina tyto vlastnosti nazývá se *nespočetnou*. Značí se $m( \\mathbb{N}) = $ zkroucený N (nevím, jak se to píše v latexu).\n",
    "\n"
   ]
  },
  {
   "cell_type": "markdown",
   "id": "39456d61-c70a-4867-af15-c364b71a1a70",
   "metadata": {},
   "source": [
    "# Početní operace s nekonečny (Nevim číslo)\n",
    "Pro výpočty s nekonečny platí následující pravidla:\n",
    "$$\n",
    "+\\infty + \\infty = +\\infty\n",
    "$$\n",
    "$$\n",
    "-\\infty - \\infty = -\\infty\n",
    "$$\n",
    "$$\n",
    "+\\infty - \\infty = ne :)\n",
    "$$\n",
    "Dle platí, že přičteme-li k nekonečnu libovolné reálné číslo (ať už k záporné nebo kladému), výsledkem bude vždy nekonečno. Pro nekonečna je rovněž definováno násobení, a to tak, že:\n",
    "$$\n",
    "+\\infty \\cdot (-\\infty) = -\\infty\n",
    "$$\n",
    "$$\n",
    "\\infty \\cdot C =  \\infty\n",
    "$$\n",
    "$$\n",
    "\\infty \\cdot 0 = ne :) \n",
    "$$\n",
    "Dělení nekonečno nekonečnem potom opět není definovaná operace a konstanta dělená nekonečnem dá 0. Odmocňovat a mocnit nekonečna jde a umocníme-li konstantu na nekonečno, získáme nekonečno (vyjma jedničky a nuly ofc). Nechtělo se mi to dál vypisovat. "
   ]
  },
  {
   "cell_type": "markdown",
   "id": "fd5aef67-a4fc-496c-b93d-24e5b666ae4a",
   "metadata": {},
   "source": [
    "# (Ne)rostoucí a (ne)klesající funkce\n",
    "Funkce je na libovolném intervalu I rostoucí právě tehdy, když pro $\\forall x,y \\in I, x < y$  platí, že $f(x) < f(y)$. Nahradíme-li znaménko nerovnosti tupou nerovností, řekneme, že funkce je na intervalu I neklesající. Analogicky definujeme slovíčka nerostoucí a klesající funkce.\n"
   ]
  },
  {
   "cell_type": "markdown",
   "id": "84e4c4a9-fa07-4b8b-acf5-ff4e2f2e7c46",
   "metadata": {},
   "source": [
    "# Elementární funkce\n",
    "Netuším, co přesně sem napsat?"
   ]
  },
  {
   "cell_type": "markdown",
   "id": "b4fa6197-0a59-4a12-a2e0-7aca2010d25d",
   "metadata": {},
   "source": [
    "# Omezenost (2.2.3) - nepovinné, ale radši si to sem píšu, používá se u dalších důkazů\n",
    "Nechť $A$ je množina s úplným uspořádáním (splňuje-li antisymetrii, tranzitivitu a reflexivitu - jinými slovy prostě třeba množina seřazená od 0 do 100) a máme jistou množinu $B\\subset A$. Řekneme, že množina $B$ je omezená shora, jestliže existuje její horní závora v A($\\exists y \\in A x \\in B => x \\leq y$). Řekneme, že množina B je omezená zdola, jestliže existuje nějaká dolní závora v $A$ ($\\exists y \\in A x \\in B => x \\geq y$). Jestliže je množina omezená shora i zdola, tak řekneme, že je *omezená*\n",
    "\n",
    "Hádám, že to stačí to přepsat za užití posloupnosti {$a_n$} "
   ]
  },
  {
   "cell_type": "markdown",
   "id": "0afdd78b-1cbf-444e-9646-f20eef8a23c8",
   "metadata": {},
   "source": [
    "# Podposloupnost, neboli posloupnost vybraná (5.5.1)\n",
    "Mějme posloupnost {$a_m$}$\\subset \\mathbb{R}$ a {$n_k$} je rostoucí posloupnost přirozených čísel. Posloupnost {$a_{n_{k}}$} nazveme *podposloupností* {$a_n$} (ekvivalentně *posloupností vybranou* z {$a_n$}). Vztah těchto dvou posloupností značíme jako {$a_{n_{k}}$} $\\subset$ {$a_n$}"
   ]
  },
  {
   "cell_type": "markdown",
   "id": "8da464e7-1a3d-4174-b602-99f18548ec1c",
   "metadata": {},
   "source": [
    "# K-tá derivace funkce (Derivace vyššího řádu) (3.5.1)\n",
    "Nechť $x_0 \\in \\mathbb{R}, \\delta >0$ a $f: \\mathbb{R} \\to \\mathbb{R}$ má v $U_\\delta (x_0)$ vlastní derivaci. Pokud existuje:\n",
    "$$\n",
    "\\lim_{x\\to x_0} \\frac{f'(x)-f(x_0)}{x-x_0} \\in \\mathbb{R}\n",
    "$$\n",
    "Pak toto číslo nazveme druhou derivací funkce $f$ v bode $x_0$ a značíme jeje $f''(x_0)$, ekvivalentně pomocí zlomků. Derivace vyššího řádu potom definujeme $k \\in \\mathbb{N}$\n",
    "$$\n",
    "f^{k}(x_0) = (f^{k-1})' (x_0)\n",
    "$$\n",
    "Pozn.: Pokud funkce v nějakém řádu $s$ derivace nabyde nevlastní derivaci, pak už neexistují další derivace - alespoň z definice mi to tak plyne. "
   ]
  },
  {
   "cell_type": "markdown",
   "id": "37fbd08e-1298-4c47-a133-06e1805b2648",
   "metadata": {},
   "source": [
    "# Funkce třídy"
   ]
  },
  {
   "cell_type": "markdown",
   "id": "15aaa8ff-dfdc-429b-8499-9573f06c1e6b",
   "metadata": {},
   "source": [
    "# Zobecněné kombinační číslo (str. 205)\n",
    "Definováno předpisem:\n",
    "$$\n",
    "(\\frac{\\alpha}{k}) = \\frac{\\alpha(\\alpha - 1)... (\\alpha -k +1)}{k!}\n",
    "$$\n",
    "Zobecněné kombinační číslo udává, kolika způsoby můžeme $\\alpha$ prvků rozřadit do nějakého počtu skupin, který nás zajímá (Touhle definicí si nejsem jistý, nenašel jsem k ní víc v skriptách)"
   ]
  },
  {
   "cell_type": "markdown",
   "id": "32050da6-2789-4573-85ad-371afd3f869e",
   "metadata": {},
   "source": [
    "# Taylorův zbytek funkce ???"
   ]
  },
  {
   "cell_type": "markdown",
   "id": "4444fafa-879e-42a0-ad98-5e84ae95c72b",
   "metadata": {},
   "source": [
    "# Dělení intervalu, horní a dolní součet (7.2.1)\n",
    "Nechť $[a,b] \\subset \\mathbb{R}$ a $D = x_j^{n}_{j=0}$ je konečná množina- Řekneme, že $D$ je *dělením* intervalu $[a,b]$ jestliže\n",
    "$$\n",
    "a = x_0 < x_1 <... <x_n=b\n",
    "$$\n",
    "Jsou-li $D$ a $D'$ dvě dělení intervalu $[a,b]$ a platí, že $D \\subset D'$ řekneme, že $D'$ je znemněním dělení $D$.\n",
    "### Ještě jsme nebrali, takže bych to bral velmi s rezervou,\n",
    "# Horní a dolní součet (7.2.2)"
   ]
  },
  {
   "cell_type": "markdown",
   "id": "27e30e26-7bd7-48a4-91dd-bb88ebbaf5bb",
   "metadata": {},
   "source": [
    "# Stejnoměrná spojitost funkce (6.12.2)\n",
    "Funkce je stejnoměrně spojitá na nějakém intervalu I, platí-li na ní:\n",
    "$$\n",
    "\\forall \\epsilon >0 \\forall x \\in I \\exists \\delta > 0 x,y \\in I \\land |x-y|< \\delta => |f(x)-f(y)| < \\epsilon\n",
    "$$\n",
    "Pozn.: Pomůcka s protahováním trubky a poznámka v sekci Klíčových pojmů. "
   ]
  },
  {
   "cell_type": "markdown",
   "id": "42ea5ae1-c812-40fb-9846-dc7946581499",
   "metadata": {},
   "source": [
    "# Malé o, velké O, silná a slabá ekvivalence (5.2.1)\n",
    "- Píšeme $ = o(g)$ pro $x \\to x_0$, jestliže $lim{x \\to x_0}\\frac{f(x)}{g(x)} = 0$\n",
    "- Píšeme $ = O(g)$ pro $x \\to x_0$, jestliže existují $K,\\delta > 0$ taková. že $|f(x)|\\leq K|g(x)|$ na $P_\\delta$\n",
    "- Říkáme, že $f$ je *silně ekvivalentní* s nějakou funkcí $g$ pro $x \\to x_0$ jestliže $\\lim{x \\to x_0} \\frac{f(x)}{g(x)} = 1$ značíme $\\cong$\n",
    "- Říkáme, že $f$ je slabě ekvivalentní s $g$ pro $x \\to x_0$, jestliže $\\lim{x \\to x_0} \\frac{f(x)}{g(x)} \\in \\mathbb{R} bez {0}$ (nevím, jak v latexu napsat symbol \\\\) značíme $\\backsim$\n",
    "Příklady.: Doplnit při podrobnějším studiu"
   ]
  },
  {
   "cell_type": "markdown",
   "id": "2bd310f0-1f3d-4e83-903c-1148752a097b",
   "metadata": {},
   "source": [
    "# Asymptota v nekonečnu  (6.6.2)\n",
    "Nechť $f: \\mathbb{R} \\to \\mathbb{R}$ je definována na intervalu $(a, +\\infty) \\subset \\mathbb{R}$. O přímce $y = kx + q$ říkáme, že je asymptotou této funkce pro $x\\to +\\infty$, jestliže $\\lim{x \\to +\\infty}(f(x)- (kx+q)) = 0$. Analogicky definujeme asymptotu $x \\to -\\infty$.\n",
    "# Definice asymptoty (6.6.3)\n",
    "Nechť $f: \\mathbb{R} \\to \\mathbb{R}$ je definována na intervalu $(a, +\\infty) \\subset \\mathbb{R}$. Přímka $y = kx + q$ je *asymptotou* funkce $f$ pro $x \\to +\\infty$ právě tehdy, když platí následující dvě podmínky:\n",
    "$$\n",
    "\\lim{x \\to +\\infty}\\frac{f(x)}{x}  = k\n",
    "$$\n",
    "$$\n",
    "\\lim{x \\to +\\infty} f(x)- kx  = q\n",
    "$$\n",
    "Důkaz hádám není potřeba, když to je definice. Kdyžtak je v skriptech a třebas ho doplním"
   ]
  },
  {
   "cell_type": "markdown",
   "id": "f046b3eb-1f0c-4af2-9931-3efb5226cdc6",
   "metadata": {},
   "source": [
    "# Limes superior a limes inferior (5.5.12)\n"
   ]
  },
  {
   "cell_type": "code",
   "execution_count": null,
   "id": "f61fe19d-bd94-4d12-bf73-dda782c59d3d",
   "metadata": {},
   "outputs": [],
   "source": [
    "\n"
   ]
  }
 ],
 "metadata": {
  "kernelspec": {
   "display_name": "Python 3 (ipykernel)",
   "language": "python",
   "name": "python3"
  },
  "language_info": {
   "codemirror_mode": {
    "name": "ipython",
    "version": 3
   },
   "file_extension": ".py",
   "mimetype": "text/x-python",
   "name": "python",
   "nbconvert_exporter": "python",
   "pygments_lexer": "ipython3",
   "version": "3.11.5"
  }
 },
 "nbformat": 4,
 "nbformat_minor": 5
}
